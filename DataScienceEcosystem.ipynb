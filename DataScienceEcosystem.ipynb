{
  "nbformat": 4,
  "nbformat_minor": 0,
  "metadata": {
    "colab": {
      "provenance": [],
      "authorship_tag": "ABX9TyMQzre5mYtePlwfjii2oG49",
      "include_colab_link": true
    },
    "kernelspec": {
      "name": "python3",
      "display_name": "Python 3"
    },
    "language_info": {
      "name": "python"
    }
  },
  "cells": [
    {
      "cell_type": "markdown",
      "metadata": {
        "id": "view-in-github",
        "colab_type": "text"
      },
      "source": [
        "<a href=\"https://colab.research.google.com/github/abishekravi/Coursera-Project/blob/main/DataScienceEcosystem.ipynb\" target=\"_parent\"><img src=\"https://colab.research.google.com/assets/colab-badge.svg\" alt=\"Open In Colab\"/></a>"
      ]
    },
    {
      "cell_type": "markdown",
      "source": [
        "# Exercise 1 :  Created notebook DataScienceEcosystem.ipynb"
      ],
      "metadata": {
        "id": "Qlc212YcO97x"
      }
    },
    {
      "cell_type": "markdown",
      "source": [
        "# Exercise 2 - Title of the Notebook\n",
        "# Data Science Basics"
      ],
      "metadata": {
        "id": "25Y9e4H8OOvV"
      }
    },
    {
      "cell_type": "markdown",
      "source": [
        "# Exercise 3 - Introduction\n",
        "## Introduction\n",
        "This notebook covers fundamental concepts and practices in Data Science, including programming languages, libraries, tools, and basic arithmetic operations used in data analysis.\n"
      ],
      "metadata": {
        "id": "1rMGKoZcORDB"
      }
    },
    {
      "cell_type": "markdown",
      "source": [
        "# Exercise 4 - Data Science Languages\n",
        "## Data Science Languages\n",
        "- Python\n",
        "- R\n",
        "- SQL\n",
        "- Julia\n",
        "- Scala\n"
      ],
      "metadata": {
        "id": "4Da4bz__OSpf"
      }
    },
    {
      "cell_type": "markdown",
      "source": [
        "# Exercise 5 - Data Science Libraries\n",
        "## Data Science Libraries\n",
        "- Pandas\n",
        "- NumPy\n",
        "- Matplotlib\n",
        "- Scikit-learn\n",
        "- TensorFlow\n",
        "- Keras\n",
        "- ggplot2\n",
        "- dplyr"
      ],
      "metadata": {
        "id": "gTAVKzy0OUO5"
      }
    },
    {
      "cell_type": "markdown",
      "source": [
        "# Exercise 6 - Table of Data Science Tools\n",
        "## Data Science Tools\n",
        "\n",
        "| Tool           | Description                        |\n",
        "|----------------|------------------------------------|\n",
        "| Jupyter Notebook | Interactive computing environment  |\n",
        "| RStudio          | IDE for R                          |\n",
        "| Apache Spark     | Big data processing framework     |\n",
        "| Tableau          | Data visualization software       |\n",
        "| TensorFlow       | Machine learning library          |\n"
      ],
      "metadata": {
        "id": "PYyPCyrPOV18"
      }
    },
    {
      "cell_type": "markdown",
      "source": [
        "# Exercise 7 - Arithmetic Expression Examples\n",
        "## Arithmetic Expression Examples\n",
        "Below are examples of basic arithmetic operations like addition and multiplication.\n"
      ],
      "metadata": {
        "id": "xJjbAc9sOXa1"
      }
    },
    {
      "cell_type": "markdown",
      "source": [
        "# Exercise 8 - Code to Multiply and Add Numbers\n",
        "#```python"
      ],
      "metadata": {
        "id": "PnMQ94SVPY-D"
      }
    },
    {
      "cell_type": "code",
      "source": [
        "\n",
        "# Code cell\n",
        "# Multiply and add numbers\n",
        "a = 5\n",
        "b = 4\n",
        "product = a * b\n",
        "sum_result = a + b\n",
        "product, sum_result"
      ],
      "metadata": {
        "colab": {
          "base_uri": "https://localhost:8080/"
        },
        "id": "hFFAxy1rOimj",
        "outputId": "164f4330-30e6-4657-d358-b1eb14b87855"
      },
      "execution_count": 2,
      "outputs": [
        {
          "output_type": "execute_result",
          "data": {
            "text/plain": [
              "(20, 9)"
            ]
          },
          "metadata": {},
          "execution_count": 2
        }
      ]
    },
    {
      "cell_type": "markdown",
      "source": [
        "# Exercise 9 - Code to Convert Minutes to Hours"
      ],
      "metadata": {
        "id": "6rmLGIniOo2B"
      }
    },
    {
      "cell_type": "code",
      "execution_count": 3,
      "metadata": {
        "colab": {
          "base_uri": "https://localhost:8080/"
        },
        "id": "92BjKOXWONTW",
        "outputId": "3b9faccf-93a5-455f-860e-f06579450a9a"
      },
      "outputs": [
        {
          "output_type": "execute_result",
          "data": {
            "text/plain": [
              "2.0"
            ]
          },
          "metadata": {},
          "execution_count": 3
        }
      ],
      "source": [
        "# Code cell\n",
        "# Convert minutes to hours\n",
        "minutes = 120\n",
        "hours = minutes / 60\n",
        "hours\n",
        "\n",
        "\n",
        "\n"
      ]
    },
    {
      "cell_type": "markdown",
      "source": [
        "## Exercise 10 - Objectives\n",
        "Objectives\n",
        "\n",
        "Understand key programming languages in Data Science\n",
        "\n",
        "Learn about important libraries and tools\n",
        "\n",
        "Perform basic arithmetic operations\n",
        "\n",
        "Convert time units from minutes to hours"
      ],
      "metadata": {
        "id": "HHjLnr9cOuAZ"
      }
    },
    {
      "cell_type": "markdown",
      "source": [
        "# Ex 11\n",
        "Autho details : Abishek.R"
      ],
      "metadata": {
        "id": "nmSGlncBOuh2"
      }
    },
    {
      "cell_type": "code",
      "source": [],
      "metadata": {
        "id": "-7ZQ8OTUPr6O"
      },
      "execution_count": null,
      "outputs": []
    }
  ]
}